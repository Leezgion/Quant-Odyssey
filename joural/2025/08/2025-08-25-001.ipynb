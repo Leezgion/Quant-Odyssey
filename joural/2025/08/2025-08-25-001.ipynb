{
 "cells": [
  {
   "cell_type": "code",
   "execution_count": 1,
   "id": "3321b040",
   "metadata": {},
   "outputs": [
    {
     "name": "stdout",
     "output_type": "stream",
     "text": [
      "我们的样本K线数据:\n",
      "            open  high  low  close  volume\n",
      "date                                      \n",
      "2023-01-02   100   103   99    102    1000\n",
      "2023-01-03   102   106  101    105    1800\n",
      "2023-01-04   105   106  102    103    1200\n",
      "2023-01-05   103   107  101    107    2200\n",
      "2023-01-06   108   110  107    109    1600\n",
      "2023-01-09   107   109  106    106     900\n",
      "2023-01-10   112   115  111    114    2500\n"
     ]
    }
   ],
   "source": [
    "import pandas as pd\n",
    "import numpy as np\n",
    "\n",
    "# 创建一个更有趣的样本数据\n",
    "data = {\n",
    "    'open': [100, 102, 105, 103, 108, 107, 112],\n",
    "    'high': [103, 106, 106, 107, 110, 109, 115],\n",
    "    'low': [99, 101, 102, 101, 107, 106, 111],\n",
    "    'close': [102, 105, 103, 107, 109, 106, 114],\n",
    "    'volume': [1000, 1800, 1200, 2200, 1600, 900, 2500]\n",
    "}\n",
    "# 使用更有意义的日期作为索引\n",
    "dates = pd.to_datetime(['2023-01-02', '2023-01-03', '2023-01-04', '2023-01-05', '2023-01-06', '2023-01-09', '2023-01-10'])\n",
    "\n",
    "df = pd.DataFrame(data, index=dates)\n",
    "df.index.name = 'date'\n",
    "\n",
    "print(\"我们的样本K线数据:\")\n",
    "print(df)"
   ]
  },
  {
   "cell_type": "markdown",
   "id": "66c6c718",
   "metadata": {},
   "source": [
    "1. `.iloc`：**基于整数位置的选择 (Integer-Location Based)**\n",
    "\n",
    "`.iloc` 完全根据数据所在的“行号”和“列号”（从0开始）来选择，它不关心索引标签或列名是什么。\n",
    "\n",
    " * 类比： JavaScript数组的索引 `array[row_index][column_index]`。"
   ]
  },
  {
   "cell_type": "code",
   "execution_count": null,
   "id": "8c18d56a",
   "metadata": {},
   "outputs": [
    {
     "name": "stdout",
     "output_type": "stream",
     "text": [
      "\n",
      "--- .iloc 选择第一行 ---\n",
      " open       100\n",
      "high       103\n",
      "low         99\n",
      "close      102\n",
      "volume    1000\n",
      "Name: 2023-01-02 00:00:00, dtype: int64\n",
      "\n",
      "--- .iloc 选择最后一行 ---\n",
      " open       112\n",
      "high       115\n",
      "low        111\n",
      "close      114\n",
      "volume    2500\n",
      "Name: 2023-01-10 00:00:00, dtype: int64\n",
      "\n",
      "--- .iloc 选择前3行 ---\n",
      "             open  high  low  close  volume\n",
      "date                                      \n",
      "2023-01-02   100   103   99    102    1000\n",
      "2023-01-03   102   106  101    105    1800\n",
      "2023-01-04   105   106  102    103    1200\n",
      "\n",
      "--- .iloc 选择 (1,3) 单元格的值 ---\n",
      " 105\n",
      "\n",
      "--- .iloc 选择特定行列子集 ---\n",
      "             open  close\n",
      "date                   \n",
      "2023-01-02   100    102\n",
      "2023-01-04   105    103\n",
      "2023-01-06   108    109\n"
     ]
    }
   ],
   "source": [
    "# --- .iloc 示例 ---\n",
    "\n",
    "# 选择第1行数据 (行号为0)\n",
    "first_row = df.iloc[0]\n",
    "print(\"\\n--- .iloc 选择第一行 ---\\n\", first_row)\n",
    "\n",
    "# 选择最后一行数据\n",
    "last_row = df.iloc[-1]\n",
    "print(\"\\n--- .iloc 选择最后一行 ---\\n\", last_row)\n",
    "\n",
    "# 选择前3行数据 (不包括行号为3的行)\n",
    "first_3_rows = df.iloc[0:3]\n",
    "print(\"\\n--- .iloc 选择前3行 ---\\n\", first_3_rows)\n",
    "\n",
    "# 选择第2行、第4列的那个单元格的数据 (收盘价 close)\n",
    "cell_value = df.iloc[1, 3]  # 第2行(index 1), 第4列(index 3)\n",
    "print(f\"\\n--- .iloc 选择 (1,3) 单元格的值 ---\\n {cell_value}\")\n",
    "\n",
    "# 选择第1、3、5行，和第1、4列 ('open', 'close') 的数据\n",
    "subset = df.iloc[[0, 2, 4], [0, 3]]\n",
    "print(\"\\n--- .iloc 选择特定行列子集 ---\\n\", subset)"
   ]
  },
  {
   "cell_type": "markdown",
   "id": "e97874bc",
   "metadata": {},
   "source": [
    "2. `.loc`：**基于标签名称的选择 (Label-Based)**\n",
    "\n",
    "`.loc` 根据索引的“标签”（我们这里是日期）和列的“名字”（'open', 'close'等）来选择。这是处理时间序列数据时最常用、最强大的方式。\n",
    "\n",
    " * 类比： JavaScript对象的键名 `object['key']`。"
   ]
  },
  {
   "cell_type": "code",
   "execution_count": 3,
   "id": "45c3c53a",
   "metadata": {},
   "outputs": [
    {
     "name": "stdout",
     "output_type": "stream",
     "text": [
      "\n",
      "--- .loc 选择 '2023-01-04' 的数据 ---\n",
      " open       105\n",
      "high       106\n",
      "low        102\n",
      "close      103\n",
      "volume    1200\n",
      "Name: 2023-01-04 00:00:00, dtype: int64\n",
      "\n",
      "--- .loc 选择一个日期范围 ---\n",
      "             open  high  low  close  volume\n",
      "date                                      \n",
      "2023-01-05   103   107  101    107    2200\n",
      "2023-01-06   108   110  107    109    1600\n",
      "2023-01-09   107   109  106    106     900\n",
      "\n",
      "--- .loc 选择特定日期的特定列 ---\n",
      " close      107\n",
      "volume    2200\n",
      "Name: 2023-01-05 00:00:00, dtype: int64\n"
     ]
    }
   ],
   "source": [
    "# --- .loc 示例 ---\n",
    "\n",
    "# 选择索引标签为 '2023-01-04' 的那一行\n",
    "jan_4_data = df.loc['2023-01-04']\n",
    "print(\"\\n--- .loc 选择 '2023-01-04' 的数据 ---\\n\", jan_4_data)\n",
    "\n",
    "# 选择一个日期范围的数据 (注意：.loc的切片是包含结束值的)\n",
    "date_range_data = df.loc['2023-01-05':'2023-01-09']\n",
    "print(\"\\n--- .loc 选择一个日期范围 ---\\n\", date_range_data)\n",
    "\n",
    "# 选择 '2023-01-05' 这一天的 'close' 和 'volume'\n",
    "close_vol = df.loc['2023-01-05', ['close', 'volume']]\n",
    "print(\"\\n--- .loc 选择特定日期的特定列 ---\\n\", close_vol)"
   ]
  },
  {
   "cell_type": "markdown",
   "id": "63af2975",
   "metadata": {},
   "source": [
    "3. **布尔索引：基于条件的选择 (Condition-Based)**\n",
    "\n",
    "这是数据分析的精髓所在。我们创建一个布尔类型的“掩码”(mask)，True代表我们想要的行，False代表我们不要的，然后用这个掩码来过滤数据。\n",
    "\n",
    " * 类比： JavaScript数组的 .filter() 方法。 data.filter(item => item.volume > 1500)。"
   ]
  },
  {
   "cell_type": "code",
   "execution_count": 4,
   "id": "db2575f8",
   "metadata": {},
   "outputs": [
    {
     "name": "stdout",
     "output_type": "stream",
     "text": [
      "\n",
      "--- 成交量 > 1500 的布尔掩码 ---\n",
      " date\n",
      "2023-01-02    False\n",
      "2023-01-03     True\n",
      "2023-01-04    False\n",
      "2023-01-05     True\n",
      "2023-01-06     True\n",
      "2023-01-09    False\n",
      "2023-01-10     True\n",
      "Name: volume, dtype: bool\n",
      "\n",
      "--- 所有成交量 > 1500 的日子 ---\n",
      "             open  high  low  close  volume\n",
      "date                                      \n",
      "2023-01-03   102   106  101    105    1800\n",
      "2023-01-05   103   107  101    107    2200\n",
      "2023-01-06   108   110  107    109    1600\n",
      "2023-01-10   112   115  111    114    2500\n",
      "\n",
      "--- 所有上涨的日子 ('绿K') ---\n",
      "             open  high  low  close  volume\n",
      "date                                      \n",
      "2023-01-02   100   103   99    102    1000\n",
      "2023-01-03   102   106  101    105    1800\n",
      "2023-01-05   103   107  101    107    2200\n",
      "2023-01-06   108   110  107    109    1600\n",
      "2023-01-10   112   115  111    114    2500\n",
      "\n",
      "--- 高成交量并且下跌的日子 ('红K') ---\n",
      " Empty DataFrame\n",
      "Columns: [open, high, low, close, volume]\n",
      "Index: []\n"
     ]
    }
   ],
   "source": [
    "# --- 布尔索引示例 ---\n",
    "\n",
    "# 步骤1: 创建一个条件。这会返回一个布尔值的Series\n",
    "high_volume_mask = df['volume'] > 1500\n",
    "print(\"\\n--- 成交量 > 1500 的布尔掩码 ---\\n\", high_volume_mask)\n",
    "\n",
    "# 步骤2: 将掩码应用于DataFrame\n",
    "high_volume_days = df[high_volume_mask]\n",
    "print(\"\\n--- 所有成交量 > 1500 的日子 ---\\n\", high_volume_days)\n",
    "\n",
    "# 你也可以直接把条件写在[]里\n",
    "green_days = df[df['close'] > df['open']]\n",
    "print(\"\\n--- 所有上涨的日子 ('绿K') ---\\n\", green_days)\n",
    "\n",
    "# 组合多个条件：使用 & (AND) 和 | (OR)\n",
    "# **非常重要**: 每个条件必须用括号 () 包起来！\n",
    "high_vol_and_red_days = df[(df['volume'] > 1500) & (df['close'] < df['open'])]\n",
    "print(\"\\n--- 高成交量并且下跌的日子 ('红K') ---\\n\", high_vol_and_red_days)"
   ]
  },
  {
   "cell_type": "code",
   "execution_count": 23,
   "id": "a9f0f36d",
   "metadata": {},
   "outputs": [
    {
     "name": "stdout",
     "output_type": "stream",
     "text": [
      "            open  high  low  close  volume\n",
      "date                                      \n",
      "2023-01-03   102   106  101    105    1800\n",
      "2023-01-05   103   107  101    107    2200\n",
      "2023-01-10   112   115  111    114    2500\n"
     ]
    }
   ],
   "source": [
    "# print(df.iloc[-3])\n",
    "# print(df.loc[\"2023-01-06\"])\n",
    "# print(df.loc[\"2023-01-03\":\"2023-01-06\", [\"close\", \"open\"]])\n",
    "\n",
    "# print(df[((df[\"low\"] - df[\"open\"]) / (df[\"high\"] - df[\"low\"])) < -0.7])\n",
    "\n",
    "print(df[((df[\"volume\"] / df[\"volume\"].shift(1)) > 1.5) & (df[\"close\"] > df[\"open\"])])"
   ]
  }
 ],
 "metadata": {
  "kernelspec": {
   "display_name": "trading_env",
   "language": "python",
   "name": "python3"
  },
  "language_info": {
   "codemirror_mode": {
    "name": "ipython",
    "version": 3
   },
   "file_extension": ".py",
   "mimetype": "text/x-python",
   "name": "python",
   "nbconvert_exporter": "python",
   "pygments_lexer": "ipython3",
   "version": "3.13.5"
  }
 },
 "nbformat": 4,
 "nbformat_minor": 5
}
